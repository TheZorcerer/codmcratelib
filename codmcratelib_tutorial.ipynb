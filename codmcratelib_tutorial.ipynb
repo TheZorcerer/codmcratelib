{
  "nbformat": 4,
  "nbformat_minor": 0,
  "metadata": {
    "colab": {
      "name": "codmcratelib_tutorial",
      "provenance": [],
      "authorship_tag": "ABX9TyN763B5KkH9C0EUR08+ISCS"
    },
    "kernelspec": {
      "name": "python3",
      "display_name": "Python 3"
    }
  },
  "cells": [
    {
      "cell_type": "markdown",
      "metadata": {
        "id": "miav40QUIV2Z"
      },
      "source": [
        "Lets first get our code from https://github.com/TheZorcerer/codmcratelib downloaded and update the data."
      ]
    },
    {
      "cell_type": "code",
      "metadata": {
        "id": "Q6BlykCvIoWy"
      },
      "source": [
        "!git clone https://github.com/TheZorcerer/codmcratelib.git\n",
        "%cd /content/codmcratelib\n",
        "!python update_data.py"
      ],
      "execution_count": null,
      "outputs": []
    },
    {
      "cell_type": "markdown",
      "metadata": {
        "id": "jKQcSZwmKhSy"
      },
      "source": [
        "Ok, now that thats done, lets import in crateparsejson and cratesim."
      ]
    },
    {
      "cell_type": "code",
      "metadata": {
        "id": "6ngbQS2cKqjS"
      },
      "source": [
        "import crateparsejson\n",
        "import cratesim"
      ],
      "execution_count": null,
      "outputs": []
    },
    {
      "cell_type": "markdown",
      "metadata": {
        "id": "ZMIdXPfUKwMP"
      },
      "source": [
        "Alright, lets bring in our crate data, which is stored in crates.json and feed it into our crateparsejsonlibrary to instantiate an object containing crate data.\n",
        "Lets also have a look at the crates we have stored in crate_data.crates "
      ]
    },
    {
      "cell_type": "code",
      "metadata": {
        "id": "VdfNh_7SLCYV"
      },
      "source": [
        "crate_data = crateparsejson.parse_crates(\"crates.json\")\n",
        "print(crate_data.crates)\n"
      ],
      "execution_count": null,
      "outputs": []
    },
    {
      "cell_type": "markdown",
      "metadata": {
        "id": "PGQyvz68Q62v"
      },
      "source": [
        "Now, lets get the data for a particular crate and prepare it to be used with our cratesim library. cratesim requires 2 dictionaries of item:odds pairs. One dictionary with dupe protected and the other non-dupe protected contents.\n",
        "However out crateparsejson library has methods to help us do this.\n",
        "Let us use the 'Kawaii Cat' crate as an example"
      ]
    },
    {
      "cell_type": "code",
      "metadata": {
        "id": "YlF8dK-ATmpS"
      },
      "source": [
        "kawaii_cat_data = crate_data.get_crate('Kawaii Cat')  #this gets all the associated data\n",
        "kawaii_cat_items = crate_data.get_items(kawaii_cat_data) #this gets the items\n",
        "epics_dict,others_dict = crate_data.seperate_epics(kawaii_cat_items) # we split the items and store them in 2 lists\n",
        "print(epics_dict)\n",
        "print(others_dict)\n"
      ],
      "execution_count": null,
      "outputs": []
    },
    {
      "cell_type": "markdown",
      "metadata": {
        "id": "7Oq84GmYUrjR"
      },
      "source": [
        "Now lets initialize an instance of the cratesim library using this data."
      ]
    },
    {
      "cell_type": "code",
      "metadata": {
        "id": "kLcxh7VdUwzQ"
      },
      "source": [
        "kc_crate = cratesim.crate(epics_dict,others_dict)"
      ],
      "execution_count": null,
      "outputs": []
    },
    {
      "cell_type": "markdown",
      "metadata": {
        "id": "Rs3j3tP1VCLj"
      },
      "source": [
        "We can pull the crate to see what items we get, but before that lets explore a few options, namely lets esplore the variables\n",
        "kc_crate.pulls and kc_crate.guarenteed_crates\n",
        "\n",
        "The pulls variable holds total pulls so far and can be reset using kc_crate.reset_pulls()\n",
        "\n",
        "The guarenteed crates is set to [10,30,60] by default but we can reassign it."
      ]
    },
    {
      "cell_type": "markdown",
      "metadata": {
        "id": "z1QSpRoLWfsG"
      },
      "source": [
        "Lets begin pulling the crate."
      ]
    },
    {
      "cell_type": "code",
      "metadata": {
        "id": "q_vF4LU8Wi0h"
      },
      "source": [
        "item_got = kc_crate.pull_crate()\n",
        "print(\"Got \" + item_got + \" on the \" + str(kc_crate.pulls) + \"th pull.\")"
      ],
      "execution_count": null,
      "outputs": []
    },
    {
      "cell_type": "markdown",
      "metadata": {
        "id": "B7Nc80vsYZSH"
      },
      "source": [
        "Keep going! You might get something good!\n",
        "\n",
        "Anyway, when you feel like wanting a fresh start, just run the reset_pulls method"
      ]
    },
    {
      "cell_type": "code",
      "metadata": {
        "id": "ZcQRMPzeYpD5"
      },
      "source": [
        "kc_crate.reset_pulls()"
      ],
      "execution_count": null,
      "outputs": []
    },
    {
      "cell_type": "markdown",
      "metadata": {
        "id": "QOSnDW9XYwSx"
      },
      "source": [
        "Notes:\n",
        "\n",
        "To change the points at which epics occur just do as below."
      ]
    },
    {
      "cell_type": "code",
      "metadata": {
        "id": "b5OimyygY1Ef"
      },
      "source": [
        "kc_crate.guarenteed_crates = [20,30,50] #you can make this whatever you want of course."
      ],
      "execution_count": null,
      "outputs": []
    },
    {
      "cell_type": "markdown",
      "metadata": {
        "id": "vxV0N6iXZVNK"
      },
      "source": [
        "To use it as a crate without guarenteed epics use the play() method"
      ]
    },
    {
      "cell_type": "code",
      "metadata": {
        "id": "XHSFNxFlZlOA"
      },
      "source": [
        "kc_crate.play()"
      ],
      "execution_count": null,
      "outputs": []
    },
    {
      "cell_type": "markdown",
      "metadata": {
        "id": "vDk-CH8wZnkc"
      },
      "source": [
        "To use it as a crate without dupe protection use the pull(items) method\n",
        "In this case I'm just using the non dupe protected items as an example."
      ]
    },
    {
      "cell_type": "code",
      "metadata": {
        "id": "1Tv58SMQZ1HG"
      },
      "source": [
        "kc_crate.pull(others_dict)"
      ],
      "execution_count": null,
      "outputs": []
    },
    {
      "cell_type": "markdown",
      "metadata": {
        "id": "nv9HOC9uZ7RQ"
      },
      "source": [
        "Thats all for now and have a great day, feel free to contact me at zahran#5909 on discord if you have any doubts."
      ]
    }
  ]
}